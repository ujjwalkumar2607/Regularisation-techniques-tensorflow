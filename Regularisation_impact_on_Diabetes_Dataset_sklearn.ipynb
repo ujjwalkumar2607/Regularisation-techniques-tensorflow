{
  "nbformat": 4,
  "nbformat_minor": 0,
  "metadata": {
    "colab": {
      "name": "Regularisation impact on Diabetes Dataset sklearn",
      "provenance": []
    },
    "kernelspec": {
      "name": "python3",
      "display_name": "Python 3"
    },
    "accelerator": "GPU"
  },
  "cells": [
    {
      "cell_type": "code",
      "metadata": {
        "id": "a3rb3kBuV3CV",
        "colab_type": "code",
        "colab": {
          "base_uri": "https://localhost:8080/",
          "height": 700
        },
        "outputId": "fc47bdae-bb45-4707-bbd2-c791d2c78fb8"
      },
      "source": [
        "import tensorflow as tf\n",
        "print(tf.__version__)\n",
        "# Load the diabetes dataset\n",
        "from sklearn.datasets import load_diabetes\n",
        "diabetes_dataset = load_diabetes()\n",
        "print(diabetes_dataset['DESCR'])"
      ],
      "execution_count": 27,
      "outputs": [
        {
          "output_type": "stream",
          "text": [
            "2.2.0\n",
            ".. _diabetes_dataset:\n",
            "\n",
            "Diabetes dataset\n",
            "----------------\n",
            "\n",
            "Ten baseline variables, age, sex, body mass index, average blood\n",
            "pressure, and six blood serum measurements were obtained for each of n =\n",
            "442 diabetes patients, as well as the response of interest, a\n",
            "quantitative measure of disease progression one year after baseline.\n",
            "\n",
            "**Data Set Characteristics:**\n",
            "\n",
            "  :Number of Instances: 442\n",
            "\n",
            "  :Number of Attributes: First 10 columns are numeric predictive values\n",
            "\n",
            "  :Target: Column 11 is a quantitative measure of disease progression one year after baseline\n",
            "\n",
            "  :Attribute Information:\n",
            "      - Age\n",
            "      - Sex\n",
            "      - Body mass index\n",
            "      - Average blood pressure\n",
            "      - S1\n",
            "      - S2\n",
            "      - S3\n",
            "      - S4\n",
            "      - S5\n",
            "      - S6\n",
            "\n",
            "Note: Each of these 10 feature variables have been mean centered and scaled by the standard deviation times `n_samples` (i.e. the sum of squares of each column totals 1).\n",
            "\n",
            "Source URL:\n",
            "https://www4.stat.ncsu.edu/~boos/var.select/diabetes.html\n",
            "\n",
            "For more information see:\n",
            "Bradley Efron, Trevor Hastie, Iain Johnstone and Robert Tibshirani (2004) \"Least Angle Regression,\" Annals of Statistics (with discussion), 407-499.\n",
            "(https://web.stanford.edu/~hastie/Papers/LARS/LeastAngle_2002.pdf)\n"
          ],
          "name": "stdout"
        }
      ]
    },
    {
      "cell_type": "code",
      "metadata": {
        "id": "G_EoF0dKWGVE",
        "colab_type": "code",
        "colab": {
          "base_uri": "https://localhost:8080/",
          "height": 85
        },
        "outputId": "b8279618-e476-4ecb-a3fe-0b56847481c1"
      },
      "source": [
        "print(diabetes_dataset.keys())\n",
        "print(diabetes_dataset['data'][0])\n",
        "print(diabetes_dataset['target'][0])"
      ],
      "execution_count": 2,
      "outputs": [
        {
          "output_type": "stream",
          "text": [
            "dict_keys(['data', 'target', 'DESCR', 'feature_names', 'data_filename', 'target_filename'])\n",
            "[ 0.03807591  0.05068012  0.06169621  0.02187235 -0.0442235  -0.03482076\n",
            " -0.04340085 -0.00259226  0.01990842 -0.01764613]\n",
            "151.0\n"
          ],
          "name": "stdout"
        }
      ]
    },
    {
      "cell_type": "code",
      "metadata": {
        "id": "rMWvfyFvWIsa",
        "colab_type": "code",
        "colab": {}
      },
      "source": [
        "data = diabetes_dataset['data']\n",
        "targets = diabetes_dataset['target']"
      ],
      "execution_count": 3,
      "outputs": []
    },
    {
      "cell_type": "code",
      "metadata": {
        "id": "Y2jPt8D2WKP2",
        "colab_type": "code",
        "colab": {
          "base_uri": "https://localhost:8080/",
          "height": 1000
        },
        "outputId": "a03ed9c8-1521-4893-8d8e-1c471dd6372a"
      },
      "source": [
        "# Normalise the target data (this will make clearer training curves)\n",
        "targets = (targets - targets.mean(axis = 0)) / targets.std()\n",
        "targets"
      ],
      "execution_count": 4,
      "outputs": [
        {
          "output_type": "execute_result",
          "data": {
            "text/plain": [
              "array([-1.47194752e-02, -1.00165882e+00, -1.44579915e-01,  6.99512942e-01,\n",
              "       -2.22496178e-01, -7.15965848e-01, -1.83538046e-01, -1.15749134e+00,\n",
              "       -5.47147277e-01,  2.05006151e+00, -6.64021672e-01, -1.07957508e+00,\n",
              "        3.48889755e-01,  4.26806019e-01, -4.43258925e-01,  2.45001404e-01,\n",
              "        1.80071184e-01, -1.05621783e-01, -7.15965848e-01,  2.06043272e-01,\n",
              "       -1.09256112e+00, -1.33929596e+00, -1.09256112e+00,  1.20596866e+00,\n",
              "        4.13819975e-01,  6.47568766e-01, -1.96524090e-01, -8.71798376e-01,\n",
              "       -2.74440354e-01,  1.69943833e+00, -3.00412442e-01, -1.20943552e+00,\n",
              "        2.45262887e+00, -8.45826288e-01, -1.13151925e+00, -6.51035629e-01,\n",
              "        1.46568953e+00,  1.60853602e+00,  1.29687096e+00, -8.06868156e-01,\n",
              "       -6.77007716e-01, -1.26137969e+00, -1.18346343e+00, -7.80896068e-01,\n",
              "        1.38777327e+00, -1.28735178e+00,  4.91736239e-01, -1.31593871e-01,\n",
              "       -1.00165882e+00, -1.31593871e-01,  3.72247006e-02,  9.46247777e-01,\n",
              "       -1.20943552e+00, -6.25063541e-01,  3.87847887e-01, -3.13398486e-01,\n",
              "       -1.30033783e+00, -1.49512849e+00,  2.32015360e-01,  2.32015360e-01,\n",
              "       -1.18346343e+00, -1.05621783e-01, -1.30033783e+00, -3.13398486e-01,\n",
              "       -1.05360299e+00,  1.41113052e-01, -2.77055191e-02, -7.15965848e-01,\n",
              "        1.02154920e-01,  3.35903711e-01, -1.35228200e+00,  1.53061975e+00,\n",
              "        6.47568766e-01, -5.34161233e-01, -8.71798376e-01, -1.43019827e+00,\n",
              "        2.32015360e-01,  6.21596678e-01,  1.29687096e+00, -5.08189145e-01,\n",
              "       -1.18607827e-01, -1.31332387e+00, -1.30033783e+00,  7.51457118e-01,\n",
              "       -1.13151925e+00, -1.44579915e-01, -1.26137969e+00, -2.35482222e-01,\n",
              "       -1.43019827e+00, -5.34161233e-01, -7.02979804e-01,  1.54099096e-01,\n",
              "       -1.35228200e+00, -7.28951892e-01, -8.06868156e-01,  1.28127008e-01,\n",
              "       -2.77055191e-02,  1.64749415e+00, -7.80896068e-01, -8.97770464e-01,\n",
              "       -3.13398486e-01, -6.51035629e-01,  1.94617316e+00,  5.95624590e-01,\n",
              "       -7.41937936e-01, -1.28735178e+00, -2.35482222e-01, -1.05621783e-01,\n",
              "        1.03715008e+00, -9.23742551e-01, -6.25063541e-01, -1.20943552e+00,\n",
              "        1.21895470e+00,  1.88124294e+00,  1.37478723e+00,  9.98191953e-01,\n",
              "        1.59554997e+00,  1.67346624e+00,  3.48889755e-01,  6.21596678e-01,\n",
              "        6.21596678e-01,  2.70973492e-01,  3.61875799e-01, -8.84784420e-01,\n",
              "       -4.04300794e-01,  1.15140964e-01, -6.89993760e-01, -5.60133321e-01,\n",
              "       -4.82217057e-01,  1.50464767e+00,  1.58256393e+00,  7.61828325e-02,\n",
              "       -5.86105409e-01, -8.97770464e-01, -6.38049585e-01,  1.55659184e+00,\n",
              "       -8.71798376e-01,  1.66048019e+00,  2.38769865e+00,  1.67346624e+00,\n",
              "       -4.43258925e-01,  2.14096382e+00,  1.07610822e+00, -1.19644947e+00,\n",
              "        2.83959536e-01,  1.38777327e+00,  3.35903711e-01, -3.13398486e-01,\n",
              "       -7.28951892e-01, -3.39370574e-01,  1.76436855e+00, -8.32840244e-01,\n",
              "        1.81631272e+00, -1.05360299e+00,  5.82638546e-01,  4.39792063e-01,\n",
              "       -1.65096101e+00, -8.84784420e-01, -7.28951892e-01,  5.56666458e-01,\n",
              "       -1.28735178e+00,  8.42359425e-01,  2.57987448e-01, -2.74440354e-01,\n",
              "        8.03401293e-01, -1.20943552e+00, -1.06658903e+00,  8.81317557e-01,\n",
              "        1.50464767e+00, -1.73343121e-03, -1.36526805e+00, -1.01464486e+00,\n",
              "        1.85527085e+00, -6.64021672e-01, -1.47194752e-02, -3.26384530e-01,\n",
              "        1.10208030e+00,  9.46247777e-01, -9.23742551e-01, -1.47194752e-02,\n",
              "       -5.86105409e-01, -1.14450530e+00, -1.83538046e-01,  4.26806019e-01,\n",
              "        1.46568953e+00, -6.64021672e-01, -1.96524090e-01, -1.18607827e-01,\n",
              "       -1.44579915e-01, -9.49714639e-01,  1.81631272e+00,  3.35903711e-01,\n",
              "       -7.93882112e-01, -4.69231013e-01, -8.58812332e-01, -3.91314750e-01,\n",
              "       -1.04061695e+00, -3.00412442e-01, -1.31593871e-01, -8.06868156e-01,\n",
              "        7.61828325e-02, -1.46915640e+00,  5.69652502e-01,  9.07289645e-01,\n",
              "        1.62152206e+00, -6.89993760e-01,  5.69652502e-01,  6.47568766e-01,\n",
              "        3.72247006e-02, -9.75686727e-01,  5.04722283e-01, -1.06658903e+00,\n",
              "       -1.02763090e+00, -1.33929596e+00, -1.13151925e+00,  1.43971745e+00,\n",
              "        1.24492679e+00,  1.86825690e+00,  8.03401293e-01,  4.26806019e-01,\n",
              "       -9.62700683e-01, -7.67910024e-01,  1.29687096e+00, -2.77055191e-02,\n",
              "       -9.75686727e-01,  7.25485030e-01, -9.75686727e-01, -5.73119365e-01,\n",
              "        1.02154920e-01, -1.28735178e+00,  8.81317557e-01,  2.42386567e-02,\n",
              "        1.38777327e+00, -8.06868156e-01,  1.21895470e+00, -3.65342662e-01,\n",
              "       -1.10554717e+00, -1.04061695e+00,  1.36180118e+00,  1.42673140e+00,\n",
              "        1.59554997e+00,  3.22917667e-01, -1.05360299e+00, -1.36526805e+00,\n",
              "        4.52778107e-01, -3.52356618e-01, -9.62700683e-01, -1.31332387e+00,\n",
              "        1.37478723e+00,  8.16387337e-01,  1.95915920e+00,  1.17999657e+00,\n",
              "       -7.93882112e-01, -2.77055191e-02,  2.05006151e+00,  1.12526127e-02,\n",
              "        2.51755909e+00, -1.15749134e+00, -8.19854200e-01, -1.32630991e+00,\n",
              "       -1.46915640e+00, -6.38049585e-01,  2.02408942e+00, -4.69231013e-01,\n",
              "       -9.26357388e-02, -1.01464486e+00, -1.39124013e+00, -4.82217057e-01,\n",
              "        1.45270349e+00, -8.45826288e-01,  6.47568766e-01, -3.26384530e-01,\n",
              "        3.87847887e-01,  1.15402448e+00, -1.11853321e+00, -7.54923980e-01,\n",
              "        1.69943833e+00, -1.14450530e+00, -6.51035629e-01,  6.21596678e-01,\n",
              "        1.46568953e+00, -7.54923980e-01,  1.01117800e+00,  3.74861843e-01,\n",
              "        5.02107446e-02,  1.05013613e+00, -1.19644947e+00,  8.68331513e-01,\n",
              "       -9.36728595e-01, -1.09256112e+00,  2.33575448e+00,  1.24492679e+00,\n",
              "       -8.84784420e-01,  6.21596678e-01, -1.26137969e+00, -8.71798376e-01,\n",
              "       -8.19854200e-01, -1.57304475e+00, -3.00412442e-01, -8.97770464e-01,\n",
              "        1.59554997e+00, -1.13151925e+00,  5.95624590e-01,  1.08909426e+00,\n",
              "        1.30985701e+00, -3.65342662e-01, -1.40422618e+00,  2.57987448e-01,\n",
              "       -4.95203101e-01, -1.31593871e-01, -5.60133321e-01,  3.61875799e-01,\n",
              "       -1.05621783e-01,  1.41113052e-01, -6.66636509e-02, -7.15965848e-01,\n",
              "        8.81317557e-01,  4.91736239e-01, -5.60133321e-01,  5.04722283e-01,\n",
              "       -3.91314750e-01,  1.01117800e+00,  1.16701052e+00,  1.24492679e+00,\n",
              "        1.25791283e+00,  5.17708327e-01, -2.74440354e-01,  1.10208030e+00,\n",
              "       -9.62700683e-01, -2.22496178e-01,  1.19298261e+00,  6.08610634e-01,\n",
              "        1.53061975e+00,  1.54099096e-01, -1.04061695e+00, -7.28951892e-01,\n",
              "        1.99811734e+00, -7.93882112e-01,  8.03401293e-01, -7.41937936e-01,\n",
              "        8.29373381e-01,  1.43971745e+00,  3.35903711e-01, -5.08189145e-01,\n",
              "        6.21596678e-01, -1.70552003e-01, -1.70552003e-01, -8.32840244e-01,\n",
              "       -5.36776070e-02, -8.32840244e-01,  1.17999657e+00, -1.05360299e+00,\n",
              "       -9.75686727e-01, -5.60133321e-01,  1.55659184e+00, -1.19644947e+00,\n",
              "       -1.27436574e+00,  8.94303601e-01, -8.06868156e-01,  2.06304756e+00,\n",
              "        1.67346624e+00,  3.87847887e-01,  2.19290800e+00, -1.22242156e+00,\n",
              "        1.42673140e+00,  6.99512942e-01,  1.05013613e+00,  1.16701052e+00,\n",
              "       -3.78328706e-01,  1.93057228e-01, -1.15749134e+00,  5.82638546e-01,\n",
              "       -1.05360299e+00,  2.06043272e-01, -1.57565959e-01,  8.42359425e-01,\n",
              "       -4.04300794e-01,  1.07610822e+00,  1.20596866e+00, -1.45617035e+00,\n",
              "       -1.30033783e+00, -6.25063541e-01, -2.61454310e-01, -8.32840244e-01,\n",
              "       -1.07957508e+00,  8.68331513e-01, -1.04061695e+00,  6.34582722e-01,\n",
              "       -5.47147277e-01, -1.31332387e+00,  1.62152206e+00, -1.15749134e+00,\n",
              "       -4.43258925e-01, -1.07957508e+00,  1.56957789e+00,  1.37478723e+00,\n",
              "       -1.41721222e+00,  5.95624590e-01,  1.16701052e+00,  1.03715008e+00,\n",
              "        2.96945580e-01, -7.67910024e-01,  2.06043272e-01,  1.59554997e+00,\n",
              "        1.82929877e+00,  1.67346624e+00, -1.04061695e+00, -1.57565959e-01,\n",
              "        4.78750195e-01,  3.74861843e-01,  7.38471074e-01, -2.09510134e-01,\n",
              "        1.41374536e+00, -5.08189145e-01, -2.74440354e-01,  2.83959536e-01,\n",
              "        1.36180118e+00, -1.26137969e+00, -8.84784420e-01, -1.43019827e+00,\n",
              "       -7.96496949e-02,  7.77429206e-01,  1.05013613e+00, -7.93882112e-01,\n",
              "       -5.34161233e-01, -1.73343121e-03, -4.17286837e-01, -1.10554717e+00,\n",
              "        2.05006151e+00, -7.54923980e-01,  4.00833931e-01, -1.11853321e+00,\n",
              "        2.70973492e-01, -1.04061695e+00, -1.33929596e+00, -1.14450530e+00,\n",
              "       -1.35228200e+00,  3.35903711e-01, -6.25063541e-01, -2.61454310e-01,\n",
              "        8.81317557e-01, -1.23540761e+00])"
            ]
          },
          "metadata": {
            "tags": []
          },
          "execution_count": 4
        }
      ]
    },
    {
      "cell_type": "code",
      "metadata": {
        "id": "QVUuKz_vWLlf",
        "colab_type": "code",
        "colab": {
          "base_uri": "https://localhost:8080/",
          "height": 85
        },
        "outputId": "087425c7-377c-499e-8dac-114b6094e092"
      },
      "source": [
        "# Split the data into train and test sets\n",
        "from sklearn.model_selection import train_test_split\n",
        "\n",
        "train_data, test_data, train_targets, test_targets = train_test_split(data, targets, test_size = 0.1)\n",
        "\n",
        "print(train_data.shape)\n",
        "print(test_data.shape)\n",
        "print(train_targets.shape)\n",
        "print(test_targets.shape)\n"
      ],
      "execution_count": 5,
      "outputs": [
        {
          "output_type": "stream",
          "text": [
            "(397, 10)\n",
            "(45, 10)\n",
            "(397,)\n",
            "(45,)\n"
          ],
          "name": "stdout"
        }
      ]
    },
    {
      "cell_type": "code",
      "metadata": {
        "id": "PRgreKtkWOKk",
        "colab_type": "code",
        "colab": {}
      },
      "source": [
        "# Build the model\n",
        "from tensorflow.keras.models import Sequential\n",
        "from tensorflow.keras.layers import Dense\n",
        "\n",
        "def get_model():\n",
        "    model = Sequential([\n",
        "        Dense(units = 128, activation = 'relu', input_shape = (train_data.shape[1],)),\n",
        "        Dense(units = 128, activation = 'relu'),\n",
        "        Dense(units = 128, activation = 'relu'),\n",
        "        Dense(units = 128, activation = 'relu'),\n",
        "        Dense(units = 128, activation = 'relu'),\n",
        "        Dense(units = 128, activation = 'relu'),\n",
        "        Dense(units = 1)\n",
        "    ])\n",
        "    return model\n",
        "model = get_model()"
      ],
      "execution_count": 6,
      "outputs": []
    },
    {
      "cell_type": "code",
      "metadata": {
        "id": "xu4B7uGxWQZE",
        "colab_type": "code",
        "colab": {
          "base_uri": "https://localhost:8080/",
          "height": 391
        },
        "outputId": "5e98eb7e-0561-422a-b975-f49b0e1165ae"
      },
      "source": [
        "model.summary()"
      ],
      "execution_count": 7,
      "outputs": [
        {
          "output_type": "stream",
          "text": [
            "Model: \"sequential\"\n",
            "_________________________________________________________________\n",
            "Layer (type)                 Output Shape              Param #   \n",
            "=================================================================\n",
            "dense (Dense)                (None, 128)               1408      \n",
            "_________________________________________________________________\n",
            "dense_1 (Dense)              (None, 128)               16512     \n",
            "_________________________________________________________________\n",
            "dense_2 (Dense)              (None, 128)               16512     \n",
            "_________________________________________________________________\n",
            "dense_3 (Dense)              (None, 128)               16512     \n",
            "_________________________________________________________________\n",
            "dense_4 (Dense)              (None, 128)               16512     \n",
            "_________________________________________________________________\n",
            "dense_5 (Dense)              (None, 128)               16512     \n",
            "_________________________________________________________________\n",
            "dense_6 (Dense)              (None, 1)                 129       \n",
            "=================================================================\n",
            "Total params: 84,097\n",
            "Trainable params: 84,097\n",
            "Non-trainable params: 0\n",
            "_________________________________________________________________\n"
          ],
          "name": "stdout"
        }
      ]
    },
    {
      "cell_type": "code",
      "metadata": {
        "id": "YPBYExfnWRvZ",
        "colab_type": "code",
        "colab": {}
      },
      "source": [
        "# Compile the model\n",
        "model.compile(optimizer = 'adam',\n",
        "             loss = 'mse',\n",
        "             metrics = ['mae', 'accuracy'])"
      ],
      "execution_count": 8,
      "outputs": []
    },
    {
      "cell_type": "code",
      "metadata": {
        "id": "XS426RzSWThb",
        "colab_type": "code",
        "colab": {
          "base_uri": "https://localhost:8080/",
          "height": 1000
        },
        "outputId": "10601b87-9f24-42db-a660-5268b0a35fac"
      },
      "source": [
        "# Train the model, with some of the data reserved for validation\n",
        "history = model.fit(train_data, train_targets, epochs = 100, validation_split = 0.15, batch_size = 64)"
      ],
      "execution_count": 9,
      "outputs": [
        {
          "output_type": "stream",
          "text": [
            "Epoch 1/100\n",
            "6/6 [==============================] - 0s 38ms/step - loss: 1.0305 - mae: 0.8658 - accuracy: 0.0000e+00 - val_loss: 0.7856 - val_mae: 0.7535 - val_accuracy: 0.0000e+00\n",
            "Epoch 2/100\n",
            "6/6 [==============================] - 0s 7ms/step - loss: 0.9317 - mae: 0.8256 - accuracy: 0.0000e+00 - val_loss: 0.6724 - val_mae: 0.7002 - val_accuracy: 0.0000e+00\n",
            "Epoch 3/100\n",
            "6/6 [==============================] - 0s 7ms/step - loss: 0.7048 - mae: 0.7194 - accuracy: 0.0000e+00 - val_loss: 0.5065 - val_mae: 0.5988 - val_accuracy: 0.0000e+00\n",
            "Epoch 4/100\n",
            "6/6 [==============================] - 0s 7ms/step - loss: 0.5395 - mae: 0.5844 - accuracy: 0.0000e+00 - val_loss: 0.7431 - val_mae: 0.7032 - val_accuracy: 0.0000e+00\n",
            "Epoch 5/100\n",
            "6/6 [==============================] - 0s 8ms/step - loss: 0.6074 - mae: 0.6315 - accuracy: 0.0000e+00 - val_loss: 0.5906 - val_mae: 0.6014 - val_accuracy: 0.0000e+00\n",
            "Epoch 6/100\n",
            "6/6 [==============================] - 0s 7ms/step - loss: 0.5480 - mae: 0.5947 - accuracy: 0.0000e+00 - val_loss: 0.5387 - val_mae: 0.6371 - val_accuracy: 0.0000e+00\n",
            "Epoch 7/100\n",
            "6/6 [==============================] - 0s 7ms/step - loss: 0.5446 - mae: 0.6086 - accuracy: 0.0000e+00 - val_loss: 0.4632 - val_mae: 0.5875 - val_accuracy: 0.0000e+00\n",
            "Epoch 8/100\n",
            "6/6 [==============================] - 0s 6ms/step - loss: 0.4956 - mae: 0.5729 - accuracy: 0.0000e+00 - val_loss: 0.4698 - val_mae: 0.5644 - val_accuracy: 0.0000e+00\n",
            "Epoch 9/100\n",
            "6/6 [==============================] - 0s 7ms/step - loss: 0.4636 - mae: 0.5492 - accuracy: 0.0000e+00 - val_loss: 0.4641 - val_mae: 0.5694 - val_accuracy: 0.0000e+00\n",
            "Epoch 10/100\n",
            "6/6 [==============================] - 0s 7ms/step - loss: 0.4602 - mae: 0.5423 - accuracy: 0.0000e+00 - val_loss: 0.4837 - val_mae: 0.5541 - val_accuracy: 0.0000e+00\n",
            "Epoch 11/100\n",
            "6/6 [==============================] - 0s 7ms/step - loss: 0.4519 - mae: 0.5413 - accuracy: 0.0000e+00 - val_loss: 0.4683 - val_mae: 0.5724 - val_accuracy: 0.0000e+00\n",
            "Epoch 12/100\n",
            "6/6 [==============================] - 0s 8ms/step - loss: 0.4602 - mae: 0.5372 - accuracy: 0.0000e+00 - val_loss: 0.4813 - val_mae: 0.5700 - val_accuracy: 0.0000e+00\n",
            "Epoch 13/100\n",
            "6/6 [==============================] - 0s 7ms/step - loss: 0.4501 - mae: 0.5423 - accuracy: 0.0000e+00 - val_loss: 0.4983 - val_mae: 0.5911 - val_accuracy: 0.0000e+00\n",
            "Epoch 14/100\n",
            "6/6 [==============================] - 0s 8ms/step - loss: 0.4457 - mae: 0.5287 - accuracy: 0.0000e+00 - val_loss: 0.5006 - val_mae: 0.5662 - val_accuracy: 0.0000e+00\n",
            "Epoch 15/100\n",
            "6/6 [==============================] - 0s 7ms/step - loss: 0.4190 - mae: 0.5138 - accuracy: 0.0000e+00 - val_loss: 0.4992 - val_mae: 0.5919 - val_accuracy: 0.0000e+00\n",
            "Epoch 16/100\n",
            "6/6 [==============================] - 0s 7ms/step - loss: 0.4098 - mae: 0.5165 - accuracy: 0.0000e+00 - val_loss: 0.4882 - val_mae: 0.5685 - val_accuracy: 0.0000e+00\n",
            "Epoch 17/100\n",
            "6/6 [==============================] - 0s 7ms/step - loss: 0.3979 - mae: 0.5043 - accuracy: 0.0000e+00 - val_loss: 0.5029 - val_mae: 0.5775 - val_accuracy: 0.0000e+00\n",
            "Epoch 18/100\n",
            "6/6 [==============================] - 0s 7ms/step - loss: 0.3874 - mae: 0.4938 - accuracy: 0.0000e+00 - val_loss: 0.5002 - val_mae: 0.5694 - val_accuracy: 0.0000e+00\n",
            "Epoch 19/100\n",
            "6/6 [==============================] - 0s 7ms/step - loss: 0.3798 - mae: 0.4891 - accuracy: 0.0000e+00 - val_loss: 0.5091 - val_mae: 0.5742 - val_accuracy: 0.0000e+00\n",
            "Epoch 20/100\n",
            "6/6 [==============================] - 0s 7ms/step - loss: 0.3783 - mae: 0.4875 - accuracy: 0.0000e+00 - val_loss: 0.5117 - val_mae: 0.5751 - val_accuracy: 0.0000e+00\n",
            "Epoch 21/100\n",
            "6/6 [==============================] - 0s 7ms/step - loss: 0.3700 - mae: 0.4806 - accuracy: 0.0000e+00 - val_loss: 0.5230 - val_mae: 0.5834 - val_accuracy: 0.0000e+00\n",
            "Epoch 22/100\n",
            "6/6 [==============================] - 0s 7ms/step - loss: 0.3688 - mae: 0.4802 - accuracy: 0.0000e+00 - val_loss: 0.5274 - val_mae: 0.5980 - val_accuracy: 0.0000e+00\n",
            "Epoch 23/100\n",
            "6/6 [==============================] - 0s 7ms/step - loss: 0.3621 - mae: 0.4774 - accuracy: 0.0000e+00 - val_loss: 0.5303 - val_mae: 0.5858 - val_accuracy: 0.0000e+00\n",
            "Epoch 24/100\n",
            "6/6 [==============================] - 0s 8ms/step - loss: 0.3569 - mae: 0.4784 - accuracy: 0.0000e+00 - val_loss: 0.5348 - val_mae: 0.5994 - val_accuracy: 0.0000e+00\n",
            "Epoch 25/100\n",
            "6/6 [==============================] - 0s 7ms/step - loss: 0.3577 - mae: 0.4766 - accuracy: 0.0000e+00 - val_loss: 0.5359 - val_mae: 0.5794 - val_accuracy: 0.0000e+00\n",
            "Epoch 26/100\n",
            "6/6 [==============================] - 0s 8ms/step - loss: 0.3935 - mae: 0.4912 - accuracy: 0.0000e+00 - val_loss: 0.5750 - val_mae: 0.6245 - val_accuracy: 0.0000e+00\n",
            "Epoch 27/100\n",
            "6/6 [==============================] - 0s 7ms/step - loss: 0.3526 - mae: 0.4726 - accuracy: 0.0000e+00 - val_loss: 0.5407 - val_mae: 0.5887 - val_accuracy: 0.0000e+00\n",
            "Epoch 28/100\n",
            "6/6 [==============================] - 0s 7ms/step - loss: 0.3500 - mae: 0.4711 - accuracy: 0.0000e+00 - val_loss: 0.5338 - val_mae: 0.5948 - val_accuracy: 0.0000e+00\n",
            "Epoch 29/100\n",
            "6/6 [==============================] - 0s 7ms/step - loss: 0.3249 - mae: 0.4568 - accuracy: 0.0000e+00 - val_loss: 0.5521 - val_mae: 0.6059 - val_accuracy: 0.0000e+00\n",
            "Epoch 30/100\n",
            "6/6 [==============================] - 0s 7ms/step - loss: 0.3344 - mae: 0.4666 - accuracy: 0.0000e+00 - val_loss: 0.5521 - val_mae: 0.6010 - val_accuracy: 0.0000e+00\n",
            "Epoch 31/100\n",
            "6/6 [==============================] - 0s 7ms/step - loss: 0.3076 - mae: 0.4422 - accuracy: 0.0000e+00 - val_loss: 0.5795 - val_mae: 0.6166 - val_accuracy: 0.0000e+00\n",
            "Epoch 32/100\n",
            "6/6 [==============================] - 0s 7ms/step - loss: 0.2973 - mae: 0.4348 - accuracy: 0.0000e+00 - val_loss: 0.5703 - val_mae: 0.5972 - val_accuracy: 0.0000e+00\n",
            "Epoch 33/100\n",
            "6/6 [==============================] - 0s 7ms/step - loss: 0.2935 - mae: 0.4301 - accuracy: 0.0000e+00 - val_loss: 0.6014 - val_mae: 0.6269 - val_accuracy: 0.0000e+00\n",
            "Epoch 34/100\n",
            "6/6 [==============================] - 0s 7ms/step - loss: 0.2985 - mae: 0.4430 - accuracy: 0.0000e+00 - val_loss: 0.5998 - val_mae: 0.6252 - val_accuracy: 0.0000e+00\n",
            "Epoch 35/100\n",
            "6/6 [==============================] - 0s 7ms/step - loss: 0.2927 - mae: 0.4307 - accuracy: 0.0000e+00 - val_loss: 0.5731 - val_mae: 0.5942 - val_accuracy: 0.0000e+00\n",
            "Epoch 36/100\n",
            "6/6 [==============================] - 0s 7ms/step - loss: 0.3036 - mae: 0.4397 - accuracy: 0.0000e+00 - val_loss: 0.6362 - val_mae: 0.6442 - val_accuracy: 0.0000e+00\n",
            "Epoch 37/100\n",
            "6/6 [==============================] - 0s 7ms/step - loss: 0.3055 - mae: 0.4357 - accuracy: 0.0000e+00 - val_loss: 0.5882 - val_mae: 0.6202 - val_accuracy: 0.0000e+00\n",
            "Epoch 38/100\n",
            "6/6 [==============================] - 0s 7ms/step - loss: 0.3007 - mae: 0.4296 - accuracy: 0.0000e+00 - val_loss: 0.6047 - val_mae: 0.6030 - val_accuracy: 0.0000e+00\n",
            "Epoch 39/100\n",
            "6/6 [==============================] - 0s 7ms/step - loss: 0.2742 - mae: 0.4198 - accuracy: 0.0000e+00 - val_loss: 0.5693 - val_mae: 0.6000 - val_accuracy: 0.0000e+00\n",
            "Epoch 40/100\n",
            "6/6 [==============================] - 0s 7ms/step - loss: 0.2844 - mae: 0.4251 - accuracy: 0.0000e+00 - val_loss: 0.7010 - val_mae: 0.6790 - val_accuracy: 0.0000e+00\n",
            "Epoch 41/100\n",
            "6/6 [==============================] - 0s 7ms/step - loss: 0.3372 - mae: 0.4561 - accuracy: 0.0000e+00 - val_loss: 0.6240 - val_mae: 0.6223 - val_accuracy: 0.0000e+00\n",
            "Epoch 42/100\n",
            "6/6 [==============================] - 0s 7ms/step - loss: 0.2828 - mae: 0.4259 - accuracy: 0.0000e+00 - val_loss: 0.6152 - val_mae: 0.6295 - val_accuracy: 0.0000e+00\n",
            "Epoch 43/100\n",
            "6/6 [==============================] - 0s 8ms/step - loss: 0.2642 - mae: 0.4049 - accuracy: 0.0000e+00 - val_loss: 0.5831 - val_mae: 0.6026 - val_accuracy: 0.0000e+00\n",
            "Epoch 44/100\n",
            "6/6 [==============================] - 0s 6ms/step - loss: 0.2396 - mae: 0.3933 - accuracy: 0.0000e+00 - val_loss: 0.5809 - val_mae: 0.6040 - val_accuracy: 0.0000e+00\n",
            "Epoch 45/100\n",
            "6/6 [==============================] - 0s 7ms/step - loss: 0.2419 - mae: 0.3923 - accuracy: 0.0000e+00 - val_loss: 0.6058 - val_mae: 0.6112 - val_accuracy: 0.0000e+00\n",
            "Epoch 46/100\n",
            "6/6 [==============================] - 0s 7ms/step - loss: 0.2227 - mae: 0.3678 - accuracy: 0.0000e+00 - val_loss: 0.6193 - val_mae: 0.6153 - val_accuracy: 0.0000e+00\n",
            "Epoch 47/100\n",
            "6/6 [==============================] - 0s 7ms/step - loss: 0.2135 - mae: 0.3619 - accuracy: 0.0000e+00 - val_loss: 0.6738 - val_mae: 0.6477 - val_accuracy: 0.0000e+00\n",
            "Epoch 48/100\n",
            "6/6 [==============================] - 0s 7ms/step - loss: 0.2747 - mae: 0.4129 - accuracy: 0.0000e+00 - val_loss: 0.6174 - val_mae: 0.6109 - val_accuracy: 0.0000e+00\n",
            "Epoch 49/100\n",
            "6/6 [==============================] - 0s 7ms/step - loss: 0.2166 - mae: 0.3641 - accuracy: 0.0000e+00 - val_loss: 0.6308 - val_mae: 0.6282 - val_accuracy: 0.0000e+00\n",
            "Epoch 50/100\n",
            "6/6 [==============================] - 0s 7ms/step - loss: 0.1993 - mae: 0.3509 - accuracy: 0.0000e+00 - val_loss: 0.5566 - val_mae: 0.5856 - val_accuracy: 0.0000e+00\n",
            "Epoch 51/100\n",
            "6/6 [==============================] - 0s 7ms/step - loss: 0.1917 - mae: 0.3456 - accuracy: 0.0000e+00 - val_loss: 0.5955 - val_mae: 0.6020 - val_accuracy: 0.0000e+00\n",
            "Epoch 52/100\n",
            "6/6 [==============================] - 0s 7ms/step - loss: 0.1864 - mae: 0.3350 - accuracy: 0.0000e+00 - val_loss: 0.6263 - val_mae: 0.6224 - val_accuracy: 0.0000e+00\n",
            "Epoch 53/100\n",
            "6/6 [==============================] - 0s 9ms/step - loss: 0.1775 - mae: 0.3258 - accuracy: 0.0000e+00 - val_loss: 0.6258 - val_mae: 0.6175 - val_accuracy: 0.0000e+00\n",
            "Epoch 54/100\n",
            "6/6 [==============================] - 0s 7ms/step - loss: 0.1672 - mae: 0.3198 - accuracy: 0.0000e+00 - val_loss: 0.6431 - val_mae: 0.6202 - val_accuracy: 0.0000e+00\n",
            "Epoch 55/100\n",
            "6/6 [==============================] - 0s 8ms/step - loss: 0.1676 - mae: 0.3178 - accuracy: 0.0000e+00 - val_loss: 0.5984 - val_mae: 0.6046 - val_accuracy: 0.0000e+00\n",
            "Epoch 56/100\n",
            "6/6 [==============================] - 0s 7ms/step - loss: 0.1760 - mae: 0.3319 - accuracy: 0.0000e+00 - val_loss: 0.6609 - val_mae: 0.6161 - val_accuracy: 0.0000e+00\n",
            "Epoch 57/100\n",
            "6/6 [==============================] - 0s 7ms/step - loss: 0.1704 - mae: 0.3195 - accuracy: 0.0000e+00 - val_loss: 0.6293 - val_mae: 0.6192 - val_accuracy: 0.0000e+00\n",
            "Epoch 58/100\n",
            "6/6 [==============================] - 0s 7ms/step - loss: 0.1463 - mae: 0.2922 - accuracy: 0.0000e+00 - val_loss: 0.6241 - val_mae: 0.6127 - val_accuracy: 0.0000e+00\n",
            "Epoch 59/100\n",
            "6/6 [==============================] - 0s 7ms/step - loss: 0.1404 - mae: 0.2870 - accuracy: 0.0000e+00 - val_loss: 0.7094 - val_mae: 0.6598 - val_accuracy: 0.0000e+00\n",
            "Epoch 60/100\n",
            "6/6 [==============================] - 0s 7ms/step - loss: 0.1722 - mae: 0.3249 - accuracy: 0.0000e+00 - val_loss: 0.6435 - val_mae: 0.6210 - val_accuracy: 0.0000e+00\n",
            "Epoch 61/100\n",
            "6/6 [==============================] - 0s 7ms/step - loss: 0.1377 - mae: 0.2806 - accuracy: 0.0000e+00 - val_loss: 0.7085 - val_mae: 0.6566 - val_accuracy: 0.0000e+00\n",
            "Epoch 62/100\n",
            "6/6 [==============================] - 0s 7ms/step - loss: 0.1396 - mae: 0.2905 - accuracy: 0.0000e+00 - val_loss: 0.7564 - val_mae: 0.6809 - val_accuracy: 0.0000e+00\n",
            "Epoch 63/100\n",
            "6/6 [==============================] - 0s 7ms/step - loss: 0.1594 - mae: 0.3159 - accuracy: 0.0000e+00 - val_loss: 0.7325 - val_mae: 0.6655 - val_accuracy: 0.0000e+00\n",
            "Epoch 64/100\n",
            "6/6 [==============================] - 0s 7ms/step - loss: 0.1883 - mae: 0.3418 - accuracy: 0.0000e+00 - val_loss: 0.7953 - val_mae: 0.7035 - val_accuracy: 0.0000e+00\n",
            "Epoch 65/100\n",
            "6/6 [==============================] - 0s 7ms/step - loss: 0.2092 - mae: 0.3698 - accuracy: 0.0000e+00 - val_loss: 0.5978 - val_mae: 0.5944 - val_accuracy: 0.0000e+00\n",
            "Epoch 66/100\n",
            "6/6 [==============================] - 0s 7ms/step - loss: 0.2125 - mae: 0.3562 - accuracy: 0.0000e+00 - val_loss: 0.5935 - val_mae: 0.6097 - val_accuracy: 0.0000e+00\n",
            "Epoch 67/100\n",
            "6/6 [==============================] - 0s 8ms/step - loss: 0.1822 - mae: 0.3432 - accuracy: 0.0000e+00 - val_loss: 0.6520 - val_mae: 0.6234 - val_accuracy: 0.0000e+00\n",
            "Epoch 68/100\n",
            "6/6 [==============================] - 0s 7ms/step - loss: 0.1533 - mae: 0.3034 - accuracy: 0.0000e+00 - val_loss: 0.6840 - val_mae: 0.6376 - val_accuracy: 0.0000e+00\n",
            "Epoch 69/100\n",
            "6/6 [==============================] - 0s 7ms/step - loss: 0.1324 - mae: 0.2842 - accuracy: 0.0000e+00 - val_loss: 0.6689 - val_mae: 0.6376 - val_accuracy: 0.0000e+00\n",
            "Epoch 70/100\n",
            "6/6 [==============================] - 0s 7ms/step - loss: 0.1301 - mae: 0.2801 - accuracy: 0.0000e+00 - val_loss: 0.6276 - val_mae: 0.6012 - val_accuracy: 0.0000e+00\n",
            "Epoch 71/100\n",
            "6/6 [==============================] - 0s 7ms/step - loss: 0.1213 - mae: 0.2712 - accuracy: 0.0000e+00 - val_loss: 0.6591 - val_mae: 0.6299 - val_accuracy: 0.0000e+00\n",
            "Epoch 72/100\n",
            "6/6 [==============================] - 0s 7ms/step - loss: 0.1065 - mae: 0.2520 - accuracy: 0.0000e+00 - val_loss: 0.6356 - val_mae: 0.6159 - val_accuracy: 0.0000e+00\n",
            "Epoch 73/100\n",
            "6/6 [==============================] - 0s 9ms/step - loss: 0.0992 - mae: 0.2409 - accuracy: 0.0000e+00 - val_loss: 0.6970 - val_mae: 0.6316 - val_accuracy: 0.0000e+00\n",
            "Epoch 74/100\n",
            "6/6 [==============================] - 0s 7ms/step - loss: 0.0948 - mae: 0.2318 - accuracy: 0.0000e+00 - val_loss: 0.6528 - val_mae: 0.6117 - val_accuracy: 0.0000e+00\n",
            "Epoch 75/100\n",
            "6/6 [==============================] - 0s 8ms/step - loss: 0.0988 - mae: 0.2377 - accuracy: 0.0000e+00 - val_loss: 0.6739 - val_mae: 0.6258 - val_accuracy: 0.0000e+00\n",
            "Epoch 76/100\n",
            "6/6 [==============================] - 0s 7ms/step - loss: 0.0962 - mae: 0.2347 - accuracy: 0.0000e+00 - val_loss: 0.6924 - val_mae: 0.6306 - val_accuracy: 0.0000e+00\n",
            "Epoch 77/100\n",
            "6/6 [==============================] - 0s 7ms/step - loss: 0.0968 - mae: 0.2449 - accuracy: 0.0000e+00 - val_loss: 0.6701 - val_mae: 0.6181 - val_accuracy: 0.0000e+00\n",
            "Epoch 78/100\n",
            "6/6 [==============================] - 0s 7ms/step - loss: 0.0957 - mae: 0.2346 - accuracy: 0.0000e+00 - val_loss: 0.6666 - val_mae: 0.6260 - val_accuracy: 0.0000e+00\n",
            "Epoch 79/100\n",
            "6/6 [==============================] - 0s 7ms/step - loss: 0.1016 - mae: 0.2479 - accuracy: 0.0000e+00 - val_loss: 0.6235 - val_mae: 0.6087 - val_accuracy: 0.0000e+00\n",
            "Epoch 80/100\n",
            "6/6 [==============================] - 0s 7ms/step - loss: 0.0952 - mae: 0.2398 - accuracy: 0.0000e+00 - val_loss: 0.6722 - val_mae: 0.6270 - val_accuracy: 0.0000e+00\n",
            "Epoch 81/100\n",
            "6/6 [==============================] - 0s 7ms/step - loss: 0.0904 - mae: 0.2288 - accuracy: 0.0000e+00 - val_loss: 0.6655 - val_mae: 0.6165 - val_accuracy: 0.0000e+00\n",
            "Epoch 82/100\n",
            "6/6 [==============================] - 0s 8ms/step - loss: 0.0727 - mae: 0.2089 - accuracy: 0.0000e+00 - val_loss: 0.6646 - val_mae: 0.6130 - val_accuracy: 0.0000e+00\n",
            "Epoch 83/100\n",
            "6/6 [==============================] - 0s 7ms/step - loss: 0.0958 - mae: 0.2398 - accuracy: 0.0000e+00 - val_loss: 0.6493 - val_mae: 0.6225 - val_accuracy: 0.0000e+00\n",
            "Epoch 84/100\n",
            "6/6 [==============================] - 0s 7ms/step - loss: 0.0852 - mae: 0.2256 - accuracy: 0.0000e+00 - val_loss: 0.6343 - val_mae: 0.6097 - val_accuracy: 0.0000e+00\n",
            "Epoch 85/100\n",
            "6/6 [==============================] - 0s 7ms/step - loss: 0.0730 - mae: 0.2058 - accuracy: 0.0000e+00 - val_loss: 0.6728 - val_mae: 0.6314 - val_accuracy: 0.0000e+00\n",
            "Epoch 86/100\n",
            "6/6 [==============================] - 0s 7ms/step - loss: 0.0652 - mae: 0.1941 - accuracy: 0.0000e+00 - val_loss: 0.7092 - val_mae: 0.6291 - val_accuracy: 0.0000e+00\n",
            "Epoch 87/100\n",
            "6/6 [==============================] - 0s 8ms/step - loss: 0.0703 - mae: 0.2077 - accuracy: 0.0000e+00 - val_loss: 0.7089 - val_mae: 0.6475 - val_accuracy: 0.0000e+00\n",
            "Epoch 88/100\n",
            "6/6 [==============================] - 0s 7ms/step - loss: 0.0778 - mae: 0.2165 - accuracy: 0.0000e+00 - val_loss: 0.7042 - val_mae: 0.6428 - val_accuracy: 0.0000e+00\n",
            "Epoch 89/100\n",
            "6/6 [==============================] - 0s 6ms/step - loss: 0.0662 - mae: 0.1949 - accuracy: 0.0000e+00 - val_loss: 0.7293 - val_mae: 0.6459 - val_accuracy: 0.0000e+00\n",
            "Epoch 90/100\n",
            "6/6 [==============================] - 0s 7ms/step - loss: 0.0652 - mae: 0.2004 - accuracy: 0.0000e+00 - val_loss: 0.7739 - val_mae: 0.6654 - val_accuracy: 0.0000e+00\n",
            "Epoch 91/100\n",
            "6/6 [==============================] - 0s 7ms/step - loss: 0.0578 - mae: 0.1818 - accuracy: 0.0000e+00 - val_loss: 0.7197 - val_mae: 0.6371 - val_accuracy: 0.0000e+00\n",
            "Epoch 92/100\n",
            "6/6 [==============================] - 0s 8ms/step - loss: 0.0531 - mae: 0.1711 - accuracy: 0.0000e+00 - val_loss: 0.6619 - val_mae: 0.6153 - val_accuracy: 0.0000e+00\n",
            "Epoch 93/100\n",
            "6/6 [==============================] - 0s 8ms/step - loss: 0.0515 - mae: 0.1638 - accuracy: 0.0000e+00 - val_loss: 0.6772 - val_mae: 0.6198 - val_accuracy: 0.0000e+00\n",
            "Epoch 94/100\n",
            "6/6 [==============================] - 0s 8ms/step - loss: 0.0458 - mae: 0.1495 - accuracy: 0.0000e+00 - val_loss: 0.6625 - val_mae: 0.6148 - val_accuracy: 0.0000e+00\n",
            "Epoch 95/100\n",
            "6/6 [==============================] - 0s 7ms/step - loss: 0.0478 - mae: 0.1585 - accuracy: 0.0000e+00 - val_loss: 0.6513 - val_mae: 0.6060 - val_accuracy: 0.0000e+00\n",
            "Epoch 96/100\n",
            "6/6 [==============================] - 0s 7ms/step - loss: 0.0522 - mae: 0.1665 - accuracy: 0.0000e+00 - val_loss: 0.6675 - val_mae: 0.6207 - val_accuracy: 0.0000e+00\n",
            "Epoch 97/100\n",
            "6/6 [==============================] - 0s 7ms/step - loss: 0.0482 - mae: 0.1654 - accuracy: 0.0000e+00 - val_loss: 0.6662 - val_mae: 0.6099 - val_accuracy: 0.0000e+00\n",
            "Epoch 98/100\n",
            "6/6 [==============================] - 0s 7ms/step - loss: 0.0456 - mae: 0.1562 - accuracy: 0.0000e+00 - val_loss: 0.6655 - val_mae: 0.6256 - val_accuracy: 0.0000e+00\n",
            "Epoch 99/100\n",
            "6/6 [==============================] - 0s 6ms/step - loss: 0.0428 - mae: 0.1486 - accuracy: 0.0000e+00 - val_loss: 0.6733 - val_mae: 0.6187 - val_accuracy: 0.0000e+00\n",
            "Epoch 100/100\n",
            "6/6 [==============================] - 0s 7ms/step - loss: 0.0439 - mae: 0.1477 - accuracy: 0.0000e+00 - val_loss: 0.7408 - val_mae: 0.6473 - val_accuracy: 0.0000e+00\n"
          ],
          "name": "stdout"
        }
      ]
    },
    {
      "cell_type": "code",
      "metadata": {
        "id": "8umTQGC3WVkQ",
        "colab_type": "code",
        "colab": {
          "base_uri": "https://localhost:8080/",
          "height": 34
        },
        "outputId": "b5588af2-520f-4b99-bf2f-50891b267ebd"
      },
      "source": [
        "history.history.keys()"
      ],
      "execution_count": 10,
      "outputs": [
        {
          "output_type": "execute_result",
          "data": {
            "text/plain": [
              "dict_keys(['loss', 'mae', 'accuracy', 'val_loss', 'val_mae', 'val_accuracy'])"
            ]
          },
          "metadata": {
            "tags": []
          },
          "execution_count": 10
        }
      ]
    },
    {
      "cell_type": "code",
      "metadata": {
        "id": "tF2Nxdg_WX0f",
        "colab_type": "code",
        "colab": {
          "base_uri": "https://localhost:8080/",
          "height": 51
        },
        "outputId": "3a7b5f2d-564b-4e4f-ddc5-bca0480a005e"
      },
      "source": [
        "# Evaluate the model on the test set\n",
        "\n",
        "model.evaluate(test_data, test_targets)"
      ],
      "execution_count": 11,
      "outputs": [
        {
          "output_type": "stream",
          "text": [
            "2/2 [==============================] - 0s 3ms/step - loss: 0.9191 - mae: 0.7403 - accuracy: 0.0000e+00\n"
          ],
          "name": "stdout"
        },
        {
          "output_type": "execute_result",
          "data": {
            "text/plain": [
              "[0.9191123843193054, 0.7402502298355103, 0.0]"
            ]
          },
          "metadata": {
            "tags": []
          },
          "execution_count": 11
        }
      ]
    },
    {
      "cell_type": "code",
      "metadata": {
        "id": "veuHoM6LWZgY",
        "colab_type": "code",
        "colab": {}
      },
      "source": [
        "import matplotlib.pyplot as plt\n",
        "%matplotlib inline"
      ],
      "execution_count": 12,
      "outputs": []
    },
    {
      "cell_type": "code",
      "metadata": {
        "id": "-iFnkdjtWbx8",
        "colab_type": "code",
        "colab": {
          "base_uri": "https://localhost:8080/",
          "height": 295
        },
        "outputId": "fcf4d778-ad12-47e7-ed01-9319c9e4d011"
      },
      "source": [
        "# Plot the training and validation loss\n",
        "\n",
        "plt.plot(history.history['loss'])\n",
        "plt.plot(history.history['val_loss'])\n",
        "plt.title('Loss vs. epochs')\n",
        "plt.ylabel('Loss')\n",
        "plt.xlabel('Epoch')\n",
        "plt.legend(['Training', 'Validation'], loc='upper right')\n",
        "plt.show()"
      ],
      "execution_count": 13,
      "outputs": [
        {
          "output_type": "display_data",
          "data": {
            "image/png": "[encoded data removed]",
            "text/plain": [
              "<Figure size 432x288 with 1 Axes>"
            ]
          },
          "metadata": {
            "tags": [],
            "needs_background": "light"
          }
        }
      ]
    },
    {
      "cell_type": "code",
      "metadata": {
        "id": "z-YZn2gOWdeC",
        "colab_type": "code",
        "colab": {}
      },
      "source": [
        "from tensorflow.keras.layers import Dropout\n",
        "from tensorflow.keras import regularizers"
      ],
      "execution_count": 14,
      "outputs": []
    },
    {
      "cell_type": "code",
      "metadata": {
        "id": "_1bl2JrsWhKa",
        "colab_type": "code",
        "colab": {}
      },
      "source": [
        "def get_regularised_model(wd, rate):\n",
        "    model = Sequential([\n",
        "        Dense(128, kernel_regularizer = regularizers.l2(wd), activation=\"relu\", input_shape=(train_data.shape[1],)),\n",
        "        Dropout(rate),\n",
        "        Dense(128, kernel_regularizer = regularizers.l2(wd), activation=\"relu\"),\n",
        "        Dropout(rate),\n",
        "        Dense(128, kernel_regularizer = regularizers.l2(wd), activation=\"relu\"),\n",
        "        Dropout(rate),\n",
        "        Dense(128, kernel_regularizer = regularizers.l2(wd), activation=\"relu\"),\n",
        "        Dropout(rate),\n",
        "        Dense(128, kernel_regularizer = regularizers.l2(wd), activation=\"relu\"),\n",
        "        Dropout(rate),\n",
        "        Dense(128, kernel_regularizer = regularizers.l2(wd), activation=\"relu\"),\n",
        "        Dropout(rate),\n",
        "        Dense(1)\n",
        "    ])\n",
        "    return model"
      ],
      "execution_count": 15,
      "outputs": []
    },
    {
      "cell_type": "code",
      "metadata": {
        "id": "i6RQrHUsWjg8",
        "colab_type": "code",
        "colab": {}
      },
      "source": [
        "# Re-build the model with weight decay and dropout layers\n",
        "model = get_regularised_model(1e-5, 0.3)"
      ],
      "execution_count": 16,
      "outputs": []
    },
    {
      "cell_type": "code",
      "metadata": {
        "id": "Q6P5cneMWlYd",
        "colab_type": "code",
        "colab": {}
      },
      "source": [
        "# Compile the model\n",
        "\n",
        "model.compile(optimizer = 'adam', loss = 'mse', metrics = ['mae'])"
      ],
      "execution_count": 17,
      "outputs": []
    },
    {
      "cell_type": "code",
      "metadata": {
        "id": "Dk05xkiCWnQH",
        "colab_type": "code",
        "colab": {
          "base_uri": "https://localhost:8080/",
          "height": 1000
        },
        "outputId": "4aeb07b8-9750-46ee-cec9-8c3248dca3e8"
      },
      "source": [
        "# Train the model, with some of the data reserved for validation\n",
        "history = model.fit(train_data, train_targets, epochs = 100, validation_split = 0.15, batch_size = 64)"
      ],
      "execution_count": 18,
      "outputs": [
        {
          "output_type": "stream",
          "text": [
            "Epoch 1/100\n",
            "6/6 [==============================] - 0s 26ms/step - loss: 1.0469 - mae: 0.8696 - val_loss: 0.8239 - val_mae: 0.7659\n",
            "Epoch 2/100\n",
            "6/6 [==============================] - 0s 7ms/step - loss: 1.0316 - mae: 0.8678 - val_loss: 0.8273 - val_mae: 0.7671\n",
            "Epoch 3/100\n",
            "6/6 [==============================] - 0s 8ms/step - loss: 1.0050 - mae: 0.8618 - val_loss: 0.7996 - val_mae: 0.7534\n",
            "Epoch 4/100\n",
            "6/6 [==============================] - 0s 7ms/step - loss: 0.9204 - mae: 0.8230 - val_loss: 0.7004 - val_mae: 0.7148\n",
            "Epoch 5/100\n",
            "6/6 [==============================] - 0s 7ms/step - loss: 0.7692 - mae: 0.7485 - val_loss: 0.5739 - val_mae: 0.6624\n",
            "Epoch 6/100\n",
            "6/6 [==============================] - 0s 7ms/step - loss: 0.6443 - mae: 0.6584 - val_loss: 0.5366 - val_mae: 0.6041\n",
            "Epoch 7/100\n",
            "6/6 [==============================] - 0s 7ms/step - loss: 0.6254 - mae: 0.6368 - val_loss: 0.5221 - val_mae: 0.5860\n",
            "Epoch 8/100\n",
            "6/6 [==============================] - 0s 26ms/step - loss: 0.5943 - mae: 0.6248 - val_loss: 0.4854 - val_mae: 0.5859\n",
            "Epoch 9/100\n",
            "6/6 [==============================] - 0s 7ms/step - loss: 0.5180 - mae: 0.5869 - val_loss: 0.4718 - val_mae: 0.5846\n",
            "Epoch 10/100\n",
            "6/6 [==============================] - 0s 7ms/step - loss: 0.5624 - mae: 0.6049 - val_loss: 0.4614 - val_mae: 0.5606\n",
            "Epoch 11/100\n",
            "6/6 [==============================] - 0s 7ms/step - loss: 0.5628 - mae: 0.6107 - val_loss: 0.4565 - val_mae: 0.5748\n",
            "Epoch 12/100\n",
            "6/6 [==============================] - 0s 7ms/step - loss: 0.5949 - mae: 0.6192 - val_loss: 0.4679 - val_mae: 0.5522\n",
            "Epoch 13/100\n",
            "6/6 [==============================] - 0s 7ms/step - loss: 0.5410 - mae: 0.5977 - val_loss: 0.4617 - val_mae: 0.5844\n",
            "Epoch 14/100\n",
            "6/6 [==============================] - 0s 7ms/step - loss: 0.5795 - mae: 0.6165 - val_loss: 0.4473 - val_mae: 0.5524\n",
            "Epoch 15/100\n",
            "6/6 [==============================] - 0s 8ms/step - loss: 0.5361 - mae: 0.5953 - val_loss: 0.4638 - val_mae: 0.5438\n",
            "Epoch 16/100\n",
            "6/6 [==============================] - 0s 8ms/step - loss: 0.5397 - mae: 0.5902 - val_loss: 0.4515 - val_mae: 0.5697\n",
            "Epoch 17/100\n",
            "6/6 [==============================] - 0s 7ms/step - loss: 0.5149 - mae: 0.5712 - val_loss: 0.4552 - val_mae: 0.5503\n",
            "Epoch 18/100\n",
            "6/6 [==============================] - 0s 8ms/step - loss: 0.5218 - mae: 0.5691 - val_loss: 0.4669 - val_mae: 0.5498\n",
            "Epoch 19/100\n",
            "6/6 [==============================] - 0s 7ms/step - loss: 0.5227 - mae: 0.5814 - val_loss: 0.4538 - val_mae: 0.5678\n",
            "Epoch 20/100\n",
            "6/6 [==============================] - 0s 7ms/step - loss: 0.4875 - mae: 0.5704 - val_loss: 0.4538 - val_mae: 0.5694\n",
            "Epoch 21/100\n",
            "6/6 [==============================] - 0s 8ms/step - loss: 0.5199 - mae: 0.5763 - val_loss: 0.4621 - val_mae: 0.5516\n",
            "Epoch 22/100\n",
            "6/6 [==============================] - 0s 7ms/step - loss: 0.5044 - mae: 0.5727 - val_loss: 0.4574 - val_mae: 0.5600\n",
            "Epoch 23/100\n",
            "6/6 [==============================] - 0s 7ms/step - loss: 0.5139 - mae: 0.5686 - val_loss: 0.4634 - val_mae: 0.5761\n",
            "Epoch 24/100\n",
            "6/6 [==============================] - 0s 7ms/step - loss: 0.4891 - mae: 0.5620 - val_loss: 0.4771 - val_mae: 0.5687\n",
            "Epoch 25/100\n",
            "6/6 [==============================] - 0s 7ms/step - loss: 0.4911 - mae: 0.5619 - val_loss: 0.4776 - val_mae: 0.5735\n",
            "Epoch 26/100\n",
            "6/6 [==============================] - 0s 7ms/step - loss: 0.4955 - mae: 0.5727 - val_loss: 0.4625 - val_mae: 0.5601\n",
            "Epoch 27/100\n",
            "6/6 [==============================] - 0s 8ms/step - loss: 0.4524 - mae: 0.5328 - val_loss: 0.4545 - val_mae: 0.5712\n",
            "Epoch 28/100\n",
            "6/6 [==============================] - 0s 7ms/step - loss: 0.4804 - mae: 0.5564 - val_loss: 0.4525 - val_mae: 0.5540\n",
            "Epoch 29/100\n",
            "6/6 [==============================] - 0s 7ms/step - loss: 0.4643 - mae: 0.5368 - val_loss: 0.4562 - val_mae: 0.5548\n",
            "Epoch 30/100\n",
            "6/6 [==============================] - 0s 7ms/step - loss: 0.4599 - mae: 0.5344 - val_loss: 0.4406 - val_mae: 0.5454\n",
            "Epoch 31/100\n",
            "6/6 [==============================] - 0s 8ms/step - loss: 0.4945 - mae: 0.5571 - val_loss: 0.4404 - val_mae: 0.5555\n",
            "Epoch 32/100\n",
            "6/6 [==============================] - 0s 8ms/step - loss: 0.4930 - mae: 0.5634 - val_loss: 0.4559 - val_mae: 0.5677\n",
            "Epoch 33/100\n",
            "6/6 [==============================] - 0s 7ms/step - loss: 0.4628 - mae: 0.5358 - val_loss: 0.4643 - val_mae: 0.5597\n",
            "Epoch 34/100\n",
            "6/6 [==============================] - 0s 7ms/step - loss: 0.4663 - mae: 0.5354 - val_loss: 0.4660 - val_mae: 0.5635\n",
            "Epoch 35/100\n",
            "6/6 [==============================] - 0s 8ms/step - loss: 0.4317 - mae: 0.5272 - val_loss: 0.4719 - val_mae: 0.5679\n",
            "Epoch 36/100\n",
            "6/6 [==============================] - 0s 7ms/step - loss: 0.4944 - mae: 0.5608 - val_loss: 0.4678 - val_mae: 0.5755\n",
            "Epoch 37/100\n",
            "6/6 [==============================] - 0s 8ms/step - loss: 0.4795 - mae: 0.5520 - val_loss: 0.4801 - val_mae: 0.5556\n",
            "Epoch 38/100\n",
            "6/6 [==============================] - 0s 7ms/step - loss: 0.4604 - mae: 0.5327 - val_loss: 0.4700 - val_mae: 0.5678\n",
            "Epoch 39/100\n",
            "6/6 [==============================] - 0s 7ms/step - loss: 0.4419 - mae: 0.5218 - val_loss: 0.4619 - val_mae: 0.5605\n",
            "Epoch 40/100\n",
            "6/6 [==============================] - 0s 7ms/step - loss: 0.4396 - mae: 0.5292 - val_loss: 0.4623 - val_mae: 0.5562\n",
            "Epoch 41/100\n",
            "6/6 [==============================] - 0s 8ms/step - loss: 0.4598 - mae: 0.5476 - val_loss: 0.4613 - val_mae: 0.5775\n",
            "Epoch 42/100\n",
            "6/6 [==============================] - 0s 7ms/step - loss: 0.4370 - mae: 0.5319 - val_loss: 0.4687 - val_mae: 0.5731\n",
            "Epoch 43/100\n",
            "6/6 [==============================] - 0s 8ms/step - loss: 0.4508 - mae: 0.5247 - val_loss: 0.4911 - val_mae: 0.5649\n",
            "Epoch 44/100\n",
            "6/6 [==============================] - 0s 7ms/step - loss: 0.4888 - mae: 0.5545 - val_loss: 0.4610 - val_mae: 0.5686\n",
            "Epoch 45/100\n",
            "6/6 [==============================] - 0s 7ms/step - loss: 0.4588 - mae: 0.5487 - val_loss: 0.4978 - val_mae: 0.6056\n",
            "Epoch 46/100\n",
            "6/6 [==============================] - 0s 7ms/step - loss: 0.4388 - mae: 0.5270 - val_loss: 0.4639 - val_mae: 0.5616\n",
            "Epoch 47/100\n",
            "6/6 [==============================] - 0s 8ms/step - loss: 0.4463 - mae: 0.5227 - val_loss: 0.4818 - val_mae: 0.5692\n",
            "Epoch 48/100\n",
            "6/6 [==============================] - 0s 7ms/step - loss: 0.4378 - mae: 0.5343 - val_loss: 0.4831 - val_mae: 0.5921\n",
            "Epoch 49/100\n",
            "6/6 [==============================] - 0s 7ms/step - loss: 0.4432 - mae: 0.5310 - val_loss: 0.4692 - val_mae: 0.5702\n",
            "Epoch 50/100\n",
            "6/6 [==============================] - 0s 7ms/step - loss: 0.4206 - mae: 0.5176 - val_loss: 0.4804 - val_mae: 0.5661\n",
            "Epoch 51/100\n",
            "6/6 [==============================] - 0s 7ms/step - loss: 0.4127 - mae: 0.5103 - val_loss: 0.4798 - val_mae: 0.5745\n",
            "Epoch 52/100\n",
            "6/6 [==============================] - 0s 7ms/step - loss: 0.4407 - mae: 0.5266 - val_loss: 0.4759 - val_mae: 0.5680\n",
            "Epoch 53/100\n",
            "6/6 [==============================] - 0s 7ms/step - loss: 0.4236 - mae: 0.5090 - val_loss: 0.4763 - val_mae: 0.5797\n",
            "Epoch 54/100\n",
            "6/6 [==============================] - 0s 7ms/step - loss: 0.4225 - mae: 0.5183 - val_loss: 0.4742 - val_mae: 0.5820\n",
            "Epoch 55/100\n",
            "6/6 [==============================] - 0s 8ms/step - loss: 0.4103 - mae: 0.5129 - val_loss: 0.4709 - val_mae: 0.5613\n",
            "Epoch 56/100\n",
            "6/6 [==============================] - 0s 8ms/step - loss: 0.4192 - mae: 0.5184 - val_loss: 0.4796 - val_mae: 0.5746\n",
            "Epoch 57/100\n",
            "6/6 [==============================] - 0s 8ms/step - loss: 0.4372 - mae: 0.5214 - val_loss: 0.4837 - val_mae: 0.5741\n",
            "Epoch 58/100\n",
            "6/6 [==============================] - 0s 7ms/step - loss: 0.3947 - mae: 0.4949 - val_loss: 0.4797 - val_mae: 0.5793\n",
            "Epoch 59/100\n",
            "6/6 [==============================] - 0s 7ms/step - loss: 0.4302 - mae: 0.5254 - val_loss: 0.4766 - val_mae: 0.5827\n",
            "Epoch 60/100\n",
            "6/6 [==============================] - 0s 7ms/step - loss: 0.4156 - mae: 0.5102 - val_loss: 0.4905 - val_mae: 0.5827\n",
            "Epoch 61/100\n",
            "6/6 [==============================] - 0s 8ms/step - loss: 0.4143 - mae: 0.4987 - val_loss: 0.5070 - val_mae: 0.5730\n",
            "Epoch 62/100\n",
            "6/6 [==============================] - 0s 7ms/step - loss: 0.4205 - mae: 0.5118 - val_loss: 0.5054 - val_mae: 0.5862\n",
            "Epoch 63/100\n",
            "6/6 [==============================] - 0s 7ms/step - loss: 0.4011 - mae: 0.5034 - val_loss: 0.4852 - val_mae: 0.5794\n",
            "Epoch 64/100\n",
            "6/6 [==============================] - 0s 7ms/step - loss: 0.4299 - mae: 0.5114 - val_loss: 0.4980 - val_mae: 0.5782\n",
            "Epoch 65/100\n",
            "6/6 [==============================] - 0s 7ms/step - loss: 0.4083 - mae: 0.5046 - val_loss: 0.4917 - val_mae: 0.5675\n",
            "Epoch 66/100\n",
            "6/6 [==============================] - 0s 9ms/step - loss: 0.3959 - mae: 0.5004 - val_loss: 0.4981 - val_mae: 0.5911\n",
            "Epoch 67/100\n",
            "6/6 [==============================] - 0s 7ms/step - loss: 0.4060 - mae: 0.5154 - val_loss: 0.4942 - val_mae: 0.5779\n",
            "Epoch 68/100\n",
            "6/6 [==============================] - 0s 7ms/step - loss: 0.3737 - mae: 0.4886 - val_loss: 0.4961 - val_mae: 0.5867\n",
            "Epoch 69/100\n",
            "6/6 [==============================] - 0s 7ms/step - loss: 0.4069 - mae: 0.5050 - val_loss: 0.5030 - val_mae: 0.5705\n",
            "Epoch 70/100\n",
            "6/6 [==============================] - 0s 7ms/step - loss: 0.3948 - mae: 0.5008 - val_loss: 0.5148 - val_mae: 0.5997\n",
            "Epoch 71/100\n",
            "6/6 [==============================] - 0s 7ms/step - loss: 0.4244 - mae: 0.5160 - val_loss: 0.5015 - val_mae: 0.5744\n",
            "Epoch 72/100\n",
            "6/6 [==============================] - 0s 7ms/step - loss: 0.4039 - mae: 0.5084 - val_loss: 0.5022 - val_mae: 0.5858\n",
            "Epoch 73/100\n",
            "6/6 [==============================] - 0s 7ms/step - loss: 0.3923 - mae: 0.4967 - val_loss: 0.5287 - val_mae: 0.5966\n",
            "Epoch 74/100\n",
            "6/6 [==============================] - 0s 7ms/step - loss: 0.3730 - mae: 0.4748 - val_loss: 0.5508 - val_mae: 0.6072\n",
            "Epoch 75/100\n",
            "6/6 [==============================] - 0s 8ms/step - loss: 0.4116 - mae: 0.5060 - val_loss: 0.5276 - val_mae: 0.6060\n",
            "Epoch 76/100\n",
            "6/6 [==============================] - 0s 8ms/step - loss: 0.3971 - mae: 0.4996 - val_loss: 0.5156 - val_mae: 0.5851\n",
            "Epoch 77/100\n",
            "6/6 [==============================] - 0s 7ms/step - loss: 0.4129 - mae: 0.5107 - val_loss: 0.5207 - val_mae: 0.5956\n",
            "Epoch 78/100\n",
            "6/6 [==============================] - 0s 7ms/step - loss: 0.3872 - mae: 0.4952 - val_loss: 0.5118 - val_mae: 0.5855\n",
            "Epoch 79/100\n",
            "6/6 [==============================] - 0s 7ms/step - loss: 0.3545 - mae: 0.4721 - val_loss: 0.5041 - val_mae: 0.5955\n",
            "Epoch 80/100\n",
            "6/6 [==============================] - 0s 7ms/step - loss: 0.3937 - mae: 0.5066 - val_loss: 0.5120 - val_mae: 0.5848\n",
            "Epoch 81/100\n",
            "6/6 [==============================] - 0s 8ms/step - loss: 0.3558 - mae: 0.4742 - val_loss: 0.5625 - val_mae: 0.6114\n",
            "Epoch 82/100\n",
            "6/6 [==============================] - 0s 7ms/step - loss: 0.4299 - mae: 0.5169 - val_loss: 0.5424 - val_mae: 0.5924\n",
            "Epoch 83/100\n",
            "6/6 [==============================] - 0s 7ms/step - loss: 0.3865 - mae: 0.4926 - val_loss: 0.5252 - val_mae: 0.6056\n",
            "Epoch 84/100\n",
            "6/6 [==============================] - 0s 7ms/step - loss: 0.3985 - mae: 0.5053 - val_loss: 0.5276 - val_mae: 0.5983\n",
            "Epoch 85/100\n",
            "6/6 [==============================] - 0s 9ms/step - loss: 0.3678 - mae: 0.4861 - val_loss: 0.5599 - val_mae: 0.6070\n",
            "Epoch 86/100\n",
            "6/6 [==============================] - 0s 7ms/step - loss: 0.3817 - mae: 0.4870 - val_loss: 0.5286 - val_mae: 0.5935\n",
            "Epoch 87/100\n",
            "6/6 [==============================] - 0s 7ms/step - loss: 0.3871 - mae: 0.4952 - val_loss: 0.5433 - val_mae: 0.6053\n",
            "Epoch 88/100\n",
            "6/6 [==============================] - 0s 7ms/step - loss: 0.3838 - mae: 0.4883 - val_loss: 0.5426 - val_mae: 0.5979\n",
            "Epoch 89/100\n",
            "6/6 [==============================] - 0s 7ms/step - loss: 0.3690 - mae: 0.4774 - val_loss: 0.5515 - val_mae: 0.6076\n",
            "Epoch 90/100\n",
            "6/6 [==============================] - 0s 7ms/step - loss: 0.4075 - mae: 0.5090 - val_loss: 0.5456 - val_mae: 0.6128\n",
            "Epoch 91/100\n",
            "6/6 [==============================] - 0s 7ms/step - loss: 0.4054 - mae: 0.5002 - val_loss: 0.5537 - val_mae: 0.6104\n",
            "Epoch 92/100\n",
            "6/6 [==============================] - 0s 7ms/step - loss: 0.3937 - mae: 0.4913 - val_loss: 0.5590 - val_mae: 0.6258\n",
            "Epoch 93/100\n",
            "6/6 [==============================] - 0s 7ms/step - loss: 0.4040 - mae: 0.4952 - val_loss: 0.5448 - val_mae: 0.6069\n",
            "Epoch 94/100\n",
            "6/6 [==============================] - 0s 7ms/step - loss: 0.3637 - mae: 0.4833 - val_loss: 0.5761 - val_mae: 0.6388\n",
            "Epoch 95/100\n",
            "6/6 [==============================] - 0s 11ms/step - loss: 0.3757 - mae: 0.4833 - val_loss: 0.5522 - val_mae: 0.5908\n",
            "Epoch 96/100\n",
            "6/6 [==============================] - 0s 7ms/step - loss: 0.3832 - mae: 0.4939 - val_loss: 0.5422 - val_mae: 0.6047\n",
            "Epoch 97/100\n",
            "6/6 [==============================] - 0s 7ms/step - loss: 0.3591 - mae: 0.4757 - val_loss: 0.5195 - val_mae: 0.5911\n",
            "Epoch 98/100\n",
            "6/6 [==============================] - 0s 7ms/step - loss: 0.3643 - mae: 0.4770 - val_loss: 0.5066 - val_mae: 0.5823\n",
            "Epoch 99/100\n",
            "6/6 [==============================] - 0s 7ms/step - loss: 0.3401 - mae: 0.4623 - val_loss: 0.5285 - val_mae: 0.5932\n",
            "Epoch 100/100\n",
            "6/6 [==============================] - 0s 8ms/step - loss: 0.3367 - mae: 0.4563 - val_loss: 0.5392 - val_mae: 0.5881\n"
          ],
          "name": "stdout"
        }
      ]
    },
    {
      "cell_type": "code",
      "metadata": {
        "id": "ZRCU_KqwWot1",
        "colab_type": "code",
        "colab": {
          "base_uri": "https://localhost:8080/",
          "height": 51
        },
        "outputId": "830d051f-e19d-4b86-d609-491264457de4"
      },
      "source": [
        "# Evaluate the model on the test set\n",
        "\n",
        "model.evaluate(test_data, test_targets)"
      ],
      "execution_count": 19,
      "outputs": [
        {
          "output_type": "stream",
          "text": [
            "2/2 [==============================] - 0s 3ms/step - loss: 0.7064 - mae: 0.6468\n"
          ],
          "name": "stdout"
        },
        {
          "output_type": "execute_result",
          "data": {
            "text/plain": [
              "[0.7063942551612854, 0.6468387842178345]"
            ]
          },
          "metadata": {
            "tags": []
          },
          "execution_count": 19
        }
      ]
    },
    {
      "cell_type": "code",
      "metadata": {
        "id": "Sh6z7oYfWq7n",
        "colab_type": "code",
        "colab": {
          "base_uri": "https://localhost:8080/",
          "height": 295
        },
        "outputId": "4fc49d9e-11e4-4188-f72f-636c7e340fad"
      },
      "source": [
        "# Plot the training and validation loss\n",
        "\n",
        "import matplotlib.pyplot as plt\n",
        "\n",
        "plt.plot(history.history['loss'])\n",
        "plt.plot(history.history['val_loss'])\n",
        "plt.title('Loss vs. epochs')\n",
        "plt.ylabel('Loss')\n",
        "plt.xlabel('Epoch')\n",
        "plt.legend(['Training', 'Validation'], loc='upper right')\n",
        "plt.show()"
      ],
      "execution_count": 20,
      "outputs": [
        {
          "output_type": "display_data",
          "data": {
            "image/png": "[encoded data removed]",
            "text/plain": [
              "<Figure size 432x288 with 1 Axes>"
            ]
          },
          "metadata": {
            "tags": [],
            "needs_background": "light"
          }
        }
      ]
    },
    {
      "cell_type": "code",
      "metadata": {
        "id": "SabSPeHsWswV",
        "colab_type": "code",
        "colab": {}
      },
      "source": [
        "from tensorflow.keras.callbacks import EarlyStopping\n",
        "early_stopping = EarlyStopping(patience = 2)"
      ],
      "execution_count": 21,
      "outputs": []
    },
    {
      "cell_type": "code",
      "metadata": {
        "id": "XYTpe2FLW1Nj",
        "colab_type": "code",
        "colab": {
          "base_uri": "https://localhost:8080/",
          "height": 289
        },
        "outputId": "4195166e-df70-4c45-fc9f-4a166e421e35"
      },
      "source": [
        "# Re-train the unregularised model\n",
        "unregularised_model = get_model()\n",
        "unregularised_model.compile(optimizer = 'adam', loss = 'mse')\n",
        "unreg_history = unregularised_model.fit(train_data, train_targets, epochs = 100, validation_split = 0.15,\n",
        "                                        batch_size = 64, callbacks = [early_stopping])"
      ],
      "execution_count": 22,
      "outputs": [
        {
          "output_type": "stream",
          "text": [
            "Epoch 1/100\n",
            "6/6 [==============================] - 0s 18ms/step - loss: 1.0354 - val_loss: 0.7935\n",
            "Epoch 2/100\n",
            "6/6 [==============================] - 0s 6ms/step - loss: 0.9605 - val_loss: 0.6964\n",
            "Epoch 3/100\n",
            "6/6 [==============================] - 0s 6ms/step - loss: 0.7566 - val_loss: 0.5457\n",
            "Epoch 4/100\n",
            "6/6 [==============================] - 0s 6ms/step - loss: 0.5385 - val_loss: 0.6083\n",
            "Epoch 5/100\n",
            "6/6 [==============================] - 0s 6ms/step - loss: 0.5366 - val_loss: 0.4633\n",
            "Epoch 6/100\n",
            "6/6 [==============================] - 0s 6ms/step - loss: 0.4986 - val_loss: 0.4525\n",
            "Epoch 7/100\n",
            "6/6 [==============================] - 0s 6ms/step - loss: 0.4678 - val_loss: 0.4807\n",
            "Epoch 8/100\n",
            "6/6 [==============================] - 0s 7ms/step - loss: 0.4536 - val_loss: 0.4812\n"
          ],
          "name": "stdout"
        }
      ]
    },
    {
      "cell_type": "code",
      "metadata": {
        "id": "kAopSFizW3uE",
        "colab_type": "code",
        "colab": {
          "base_uri": "https://localhost:8080/",
          "height": 51
        },
        "outputId": "2fd5e6fd-190c-4fd7-c7f8-a0b5ffc971ca"
      },
      "source": [
        "# Evaluate the model on the test set\n",
        "unregularised_model.evaluate(test_data, test_targets, verbose = 1)\n"
      ],
      "execution_count": 23,
      "outputs": [
        {
          "output_type": "stream",
          "text": [
            "2/2 [==============================] - 0s 3ms/step - loss: 0.7073\n"
          ],
          "name": "stdout"
        },
        {
          "output_type": "execute_result",
          "data": {
            "text/plain": [
              "0.7073402404785156"
            ]
          },
          "metadata": {
            "tags": []
          },
          "execution_count": 23
        }
      ]
    },
    {
      "cell_type": "code",
      "metadata": {
        "id": "0ZBTYf_tW5el",
        "colab_type": "code",
        "colab": {
          "base_uri": "https://localhost:8080/",
          "height": 459
        },
        "outputId": "158ba011-051d-4e96-88d4-48a9e94969b6"
      },
      "source": [
        "# Re-train the regularised model\n",
        "regularised_model = get_regularised_model(1e-8, 0.2)\n",
        "regularised_model.compile(optimizer = 'adam', loss = 'mse')\n",
        "reg_history = regularised_model.fit(train_data, train_targets, epochs = 100,\n",
        "                                   validation_split = 0.15, batch_size = 64, \n",
        "                                   callbacks = [early_stopping])\n"
      ],
      "execution_count": 24,
      "outputs": [
        {
          "output_type": "stream",
          "text": [
            "Epoch 1/100\n",
            "6/6 [==============================] - 0s 24ms/step - loss: 1.0436 - val_loss: 0.7960\n",
            "Epoch 2/100\n",
            "6/6 [==============================] - 0s 6ms/step - loss: 1.0070 - val_loss: 0.7086\n",
            "Epoch 3/100\n",
            "6/6 [==============================] - 0s 7ms/step - loss: 0.9015 - val_loss: 0.5602\n",
            "Epoch 4/100\n",
            "6/6 [==============================] - 0s 7ms/step - loss: 0.7261 - val_loss: 0.5143\n",
            "Epoch 5/100\n",
            "6/6 [==============================] - 0s 6ms/step - loss: 0.6499 - val_loss: 0.4978\n",
            "Epoch 6/100\n",
            "6/6 [==============================] - 0s 7ms/step - loss: 0.5767 - val_loss: 0.4997\n",
            "Epoch 7/100\n",
            "6/6 [==============================] - 0s 7ms/step - loss: 0.5539 - val_loss: 0.4798\n",
            "Epoch 8/100\n",
            "6/6 [==============================] - 0s 6ms/step - loss: 0.5146 - val_loss: 0.4834\n",
            "Epoch 9/100\n",
            "6/6 [==============================] - 0s 6ms/step - loss: 0.4948 - val_loss: 0.4723\n",
            "Epoch 10/100\n",
            "6/6 [==============================] - 0s 6ms/step - loss: 0.5158 - val_loss: 0.4540\n",
            "Epoch 11/100\n",
            "6/6 [==============================] - 0s 7ms/step - loss: 0.5083 - val_loss: 0.4415\n",
            "Epoch 12/100\n",
            "6/6 [==============================] - 0s 7ms/step - loss: 0.4988 - val_loss: 0.4711\n",
            "Epoch 13/100\n",
            "6/6 [==============================] - 0s 6ms/step - loss: 0.5102 - val_loss: 0.4620\n"
          ],
          "name": "stdout"
        }
      ]
    },
    {
      "cell_type": "code",
      "metadata": {
        "id": "SpX261qMW7UT",
        "colab_type": "code",
        "colab": {
          "base_uri": "https://localhost:8080/",
          "height": 51
        },
        "outputId": "b08975cf-83b2-4907-f141-c08e6bb044ad"
      },
      "source": [
        "# Evaluate the model on the test set\n",
        "regularised_model.evaluate(test_data, test_targets, verbose = 1)"
      ],
      "execution_count": 25,
      "outputs": [
        {
          "output_type": "stream",
          "text": [
            "2/2 [==============================] - 0s 2ms/step - loss: 0.7464\n"
          ],
          "name": "stdout"
        },
        {
          "output_type": "execute_result",
          "data": {
            "text/plain": [
              "0.746429979801178"
            ]
          },
          "metadata": {
            "tags": []
          },
          "execution_count": 25
        }
      ]
    },
    {
      "cell_type": "code",
      "metadata": {
        "id": "ADXtYf4QXCuX",
        "colab_type": "code",
        "colab": {
          "base_uri": "https://localhost:8080/",
          "height": 350
        },
        "outputId": "2b9f72ed-f73b-48dc-8ef3-68c02f82bd81"
      },
      "source": [
        "# Plot the training and validation loss\n",
        "\n",
        "import matplotlib.pyplot as plt\n",
        "\n",
        "fig = plt.figure(figsize=(12, 5))\n",
        "\n",
        "fig.add_subplot(121)\n",
        "\n",
        "plt.plot(unreg_history.history['loss'])\n",
        "plt.plot(unreg_history.history['val_loss'])\n",
        "plt.title('Unregularised model: loss vs. epochs')\n",
        "plt.ylabel('Loss')\n",
        "plt.xlabel('Epoch')\n",
        "plt.legend(['Training', 'Validation'], loc='upper right')\n",
        "\n",
        "fig.add_subplot(122)\n",
        "\n",
        "plt.plot(reg_history.history['loss'])\n",
        "plt.plot(reg_history.history['val_loss'])\n",
        "plt.title('Regularised model: loss vs. epochs')\n",
        "plt.ylabel('Loss')\n",
        "plt.xlabel('Epoch')\n",
        "plt.legend(['Training', 'Validation'], loc='upper right')\n",
        "\n",
        "plt.show()"
      ],
      "execution_count": 26,
      "outputs": [
        {
          "output_type": "display_data",
          "data": {
            "image/png": "[encoded data removed]",
            "text/plain": [
              "<Figure size 864x360 with 2 Axes>"
            ]
          },
          "metadata": {
            "tags": [],
            "needs_background": "light"
          }
        }
      ]
    }
  ]
}